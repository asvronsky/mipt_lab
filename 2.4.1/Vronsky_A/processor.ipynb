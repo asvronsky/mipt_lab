{
 "cells": [
  {
   "cell_type": "code",
   "execution_count": 1,
   "metadata": {},
   "outputs": [],
   "source": [
    "import locale\n",
    "# Set to German locale to get comma decimal separater\n",
    "locale.setlocale(locale.LC_NUMERIC, \"de_DE.UTF-8\")\n",
    "\n",
    "import matplotlib\n",
    "from matplotlib import pyplot as plt\n",
    "import seaborn as sns\n",
    "import scienceplots\n",
    "import numpy as np\n",
    "import pandas as pd\n",
    "from sklearn.linear_model import LinearRegression\n",
    "from matplotlib.backends.backend_pgf import FigureCanvasPgf\n",
    "\n",
    "matplotlib.backend_bases.register_backend('pdf', FigureCanvasPgf)\n",
    "\n",
    "plt.rcParams['axes.formatter.use_locale'] = True\n",
    "\n",
    "# use fancy style and tex in plt\n",
    "plt.style.use(['science', 'russian-font'])\n",
    "matplotlib.rc('text', usetex = True)\n",
    "preamble = plt.rcParams.get('text.latex.preamble')\n",
    "params = {\n",
    "  'pgf.rcfonts' : False,\n",
    "  'pgf.texsystem' : 'pdflatex',\n",
    "  'pgf.preamble' : \"\\n\".join([preamble,r'\\usepackage{textcomp,mathcomp}'])\n",
    "\n",
    "}\n",
    "plt.rcParams.update(params)\n",
    "plt.rcParams.update({\"axes.grid\" : True, \"grid.linestyle\" : (0, (5, 10))})\n",
    "\n",
    "np.random.seed(0)\n",
    "\n",
    "import os\n",
    "current_dir = os.getcwd().lower()\n",
    "\n",
    "OUTPUT_DIR = 'processor_output'\n",
    "# Create output folder if it does not exist\n",
    "if (not os.path.exists(f'./{OUTPUT_DIR}')):\n",
    "    os.makedirs(OUTPUT_DIR)"
   ]
  },
  {
   "cell_type": "code",
   "execution_count": 92,
   "metadata": {},
   "outputs": [],
   "source": [
    "RHO = 13.52\n",
    "G = 9.8\n",
    "R = 8.31\n",
    "MU = 0.046\n",
    "\n",
    "HEIGHT_ERR = 0.4"
   ]
  },
  {
   "cell_type": "code",
   "execution_count": 25,
   "metadata": {},
   "outputs": [],
   "source": [
    "df = pd.read_csv('data.csv')"
   ]
  },
  {
   "cell_type": "code",
   "execution_count": 26,
   "metadata": {},
   "outputs": [],
   "source": [
    "import itertools\n",
    "import math\n",
    "def gen_bars(df, col, err):\n",
    "  df = df.copy()\n",
    "  df[col+'_hb'] = df[col] + err\n",
    "  df[col+'_lb'] = df[col] - err\n",
    "  return df\n",
    "\n",
    "def gen_col_with_bars(df, col, func, *params):\n",
    "  lb = pd.Series([math.inf] * len(df), index=df.index)\n",
    "  hb = pd.Series([-math.inf] * len(df), index=df.index)\n",
    "  for i in itertools.product(*[[col+'_hb', col+'_lb'] for col in params]):\n",
    "    val = df.apply(lambda x: func(**{key[:-3]: x[key] for key in i}), axis=1)\n",
    "    lb = np.minimum(lb, val)\n",
    "    hb = np.maximum(hb, val)\n",
    "  df = df.copy()\n",
    "  df[col] = df.apply(lambda x: func(**{key: x[key] for key in params}), axis=1)\n",
    "  df[col+'_hb'] = hb\n",
    "  df[col+'_lb'] = lb\n",
    "  return df"
   ]
  },
  {
   "cell_type": "code",
   "execution_count": 30,
   "metadata": {},
   "outputs": [],
   "source": [
    "def get_press(height):\n",
    "  return height * RHO * G\n",
    "\n",
    "df = gen_bars(df, 'height', HEIGHT_ERR)\n",
    "df = gen_bars(df, 'temp', 0.2)\n",
    "df = gen_col_with_bars(df, 'press', get_press, 'height')\n",
    "df = gen_col_with_bars(df, 'lnpress', lambda press: np.log(press), 'press')\n",
    "df = gen_col_with_bars(df, 'invtemp', lambda temp: 1 / (temp + 273), 'temp')"
   ]
  },
  {
   "cell_type": "code",
   "execution_count": 78,
   "metadata": {},
   "outputs": [],
   "source": [
    "def to_rus_str(col):\n",
    "  return col.astype('str').str.replace('.', ',')\n",
    "\n",
    "def gen_latex_col(df, col, round, err=None, mult=1):\n",
    "  if round > 0:\n",
    "    fround = lambda x: x.round(round)\n",
    "  else:\n",
    "    fround = lambda x: x.astype(int)\n",
    "\n",
    "  if err is None:\n",
    "    err = (df[col+'_hb'] - df[col+'_lb']) / 2\n",
    "  err = to_rus_str(fround(err) * mult)\n",
    "  newcol = to_rus_str(fround(df[col]) * mult)\n",
    "  return \"$\" + newcol + \" \\pm \" + err + \"$\""
   ]
  },
  {
   "cell_type": "code",
   "execution_count": 59,
   "metadata": {},
   "outputs": [],
   "source": [
    "def gen_meas_tbl(df, index):\n",
    "  columns = [\n",
    "      r'$T$, \\textcelsius',\n",
    "      r'$\\Delta h$, мм',\n",
    "      r'$P$, Па',\n",
    "      r'$\\ln P$',\n",
    "      r'$T^{-1}$, $К^{-1}$'\n",
    "    ]\n",
    "\n",
    "  new = pd.concat(\n",
    "    [\n",
    "      df['temp'],\n",
    "      df['height'].round(1),\n",
    "      df['press'].round(-1).astype(int),\n",
    "      df['lnpress'].round(3),\n",
    "      df['invtemp'].round(6)\n",
    "    ], axis=1)\n",
    "  new = new.apply(to_rus_str, axis=0)\n",
    "  new.columns = columns\n",
    "  return new.to_latex(index_names=False,\n",
    "                      index=False,\n",
    "                      buf=f'{OUTPUT_DIR}/tbl_meas_{index}.tex',\n",
    "                      column_format='ccccc',\n",
    "                      multicolumn_format='c',\n",
    "                      decimal=',')\n",
    "\n",
    "gen_meas_tbl(df[df.heating == 0].sort_values('temp'), 'cooling')\n",
    "gen_meas_tbl(df[df.heating == 1].sort_values('temp'), 'heating')"
   ]
  },
  {
   "cell_type": "code",
   "execution_count": 40,
   "metadata": {},
   "outputs": [],
   "source": [
    "def get_err_from_bars(df, col):\n",
    "  return (df[col+'_hb'] - df[col+'_lb']) / 2\n",
    "\n",
    "def get_errs(df, col):\n",
    "  return np.vstack((df[col+'_hb'] - df[col],  df[col] - df[col+'_lb']))"
   ]
  },
  {
   "cell_type": "code",
   "execution_count": 53,
   "metadata": {},
   "outputs": [
    {
     "data": {
      "image/png": "[encoded data removed]",
      "text/plain": [
       "<Figure size 800x400 with 1 Axes>"
      ]
     },
     "metadata": {},
     "output_type": "display_data"
    }
   ],
   "source": [
    "def plot_temp_press(ax, df, label, color):\n",
    "  y = df.press\n",
    "  x = df.temp\n",
    "  yerr = get_errs(df, 'press')\n",
    "  xerr = get_errs(df, 'temp')\n",
    "\n",
    "  p = np.poly1d(np.polyfit(x, y, 2))\n",
    "\n",
    "  xp = np.linspace(x.min(), x.max(), 100)\n",
    "\n",
    "  sc, = ax.plot(xp, p(xp), label=label, c=color)\n",
    "  ax.scatter(x, y, s=10, zorder=10, c=sc.get_color())\n",
    "  ax.errorbar(x, y, yerr=yerr, xerr=xerr, ls='None', ecolor=sc.get_color(),\n",
    "              capsize=2, c=sc.get_color())\n",
    "\n",
    "fig, ax = plt.subplots(figsize=(8, 4))\n",
    "plot_temp_press(ax, df[df.heating == 0].sort_values('temp'), 'Охлаждение', 'blue')\n",
    "plot_temp_press(ax, df[df.heating == 1].sort_values('temp'), 'Нагревание', 'red')\n",
    "plt.ylabel(f'Давление $P$, Па')\n",
    "plt.xlabel(f'Температура $T$, \\\\textcelsius')\n",
    "plt.legend()\n",
    "plt.savefig(f'{OUTPUT_DIR}/temp_press.pgf')"
   ]
  },
  {
   "cell_type": "code",
   "execution_count": 58,
   "metadata": {},
   "outputs": [
    {
     "data": {
      "image/png": "[encoded data removed]",
      "text/plain": [
       "<Figure size 800x400 with 1 Axes>"
      ]
     },
     "metadata": {},
     "output_type": "display_data"
    }
   ],
   "source": [
    "def plot_invtemp_lnpress(ax, df, label, color):\n",
    "  y = df.lnpress\n",
    "  x = df.invtemp\n",
    "  yerr = get_errs(df, 'lnpress')\n",
    "  xerr = get_errs(df, 'invtemp')\n",
    "\n",
    "  p = np.poly1d(np.polyfit(x, y, 1))\n",
    "\n",
    "  xp = np.linspace(x.min(), x.max(), 100)\n",
    "\n",
    "  sc, = ax.plot(xp, p(xp), label=label, c=color)\n",
    "  ax.scatter(x, y, s=10, zorder=10, c=sc.get_color())\n",
    "  ax.errorbar(x, y, yerr=yerr, xerr=xerr, ls='None', ecolor=sc.get_color(),\n",
    "              capsize=2, c=sc.get_color())\n",
    "\n",
    "fig, ax = plt.subplots(figsize=(8, 4))\n",
    "plot_invtemp_lnpress(ax, df[df.heating == 0].sort_values('temp'), 'Охлаждение', 'blue')\n",
    "plot_invtemp_lnpress(ax, df[df.heating == 1].sort_values('temp'), 'Нагревание', 'red')\n",
    "plt.ylabel(r'$\\ln P$')\n",
    "plt.xlabel(r'$T^{-1}$, $\\text{К}^{-1}$')\n",
    "plt.legend()\n",
    "plt.savefig(f'{OUTPUT_DIR}/invtemp_lnpress.pgf')"
   ]
  },
  {
   "cell_type": "code",
   "execution_count": 62,
   "metadata": {},
   "outputs": [],
   "source": [
    "def get_err_from_bars(df, col):\n",
    "  return (df[col+'_hb'] - df[col+'_lb']) / 2\n",
    "\n",
    "def get_random_sample(df, column, err=None):\n",
    "  if err is None:\n",
    "    return np.random.normal(df[column], (df[column+'_hb'] - df[column+'_lb']) / 2)\n",
    "  else:\n",
    "    return np.random.normal(df[column], err)\n",
    "\n",
    "def simulate(df, xcol, ycol, num=1000, xerr=None, yerr=None):\n",
    "  np.random.seed(0)\n",
    "  slopes = []\n",
    "  intercepts = []\n",
    "  for i in range(num):\n",
    "    x = get_random_sample(df, xcol, err=xerr)\n",
    "    y = get_random_sample(df, ycol, err=yerr)\n",
    "\n",
    "    coef = np.polyfit(x, y, 1)\n",
    "    slopes.append(coef[0])\n",
    "    intercepts.append(coef[1])\n",
    "\n",
    "  return np.array(slopes), np.array(intercepts)\n",
    "\n",
    "def get_slopes_stat(df, xcol, ycol):\n",
    "  slopes, _ = simulate(df, xcol, ycol)\n",
    "  return {'mean': np.mean(slopes), 'std': np.std(slopes)}\n",
    "\n",
    "def get_sim_stat(df, xcol, ycol, xerr=None, yerr=None):\n",
    "  slopes, intercepts = simulate(df, xcol, ycol, xerr=xerr, yerr=yerr)\n",
    "  return {\n",
    "    'slopes': {'mean': np.mean(slopes), 'std': np.std(slopes)},\n",
    "    'intercepts': {'mean': np.mean(intercepts), 'std': np.std(intercepts)}\n",
    "  }"
   ]
  },
  {
   "cell_type": "code",
   "execution_count": 66,
   "metadata": {},
   "outputs": [
    {
     "data": {
      "text/plain": [
       "{'mean': -4829.1147576469475, 'std': 34.85530273821731}"
      ]
     },
     "execution_count": 66,
     "metadata": {},
     "output_type": "execute_result"
    }
   ],
   "source": []
  },
  {
   "cell_type": "code",
   "execution_count": 94,
   "metadata": {},
   "outputs": [
    {
     "data": {
      "text/html": [
       "<div>\n",
       "<style scoped>\n",
       "    .dataframe tbody tr th:only-of-type {\n",
       "        vertical-align: middle;\n",
       "    }\n",
       "\n",
       "    .dataframe tbody tr th {\n",
       "        vertical-align: top;\n",
       "    }\n",
       "\n",
       "    .dataframe thead th {\n",
       "        text-align: right;\n",
       "    }\n",
       "</style>\n",
       "<table border=\"1\" class=\"dataframe\">\n",
       "  <thead>\n",
       "    <tr style=\"text-align: right;\">\n",
       "      <th></th>\n",
       "      <th>lconst</th>\n",
       "      <th>lconst_err</th>\n",
       "    </tr>\n",
       "  </thead>\n",
       "  <tbody>\n",
       "    <tr>\n",
       "      <th>cooling</th>\n",
       "      <td>863881.583085</td>\n",
       "      <td>8927.036184</td>\n",
       "    </tr>\n",
       "    <tr>\n",
       "      <th>heating</th>\n",
       "      <td>880428.001705</td>\n",
       "      <td>9294.289377</td>\n",
       "    </tr>\n",
       "  </tbody>\n",
       "</table>\n",
       "</div>"
      ],
      "text/plain": [
       "                lconst   lconst_err\n",
       "cooling  863881.583085  8927.036184\n",
       "heating  880428.001705  9294.289377"
      ]
     },
     "execution_count": 94,
     "metadata": {},
     "output_type": "execute_result"
    }
   ],
   "source": [
    "def get_lconst(df):\n",
    "  slope = get_slopes_stat(df, 'invtemp', 'lnpress')\n",
    "  lconst = -R / MU * slope['mean']\n",
    "  lconst_err = abs(-R / MU * slope['std'])\n",
    "  return (lconst, lconst_err)\n",
    "\n",
    "lconst_cooling = get_lconst(df[df.heating == 0])\n",
    "lconst_heating = get_lconst(df[df.heating == 1])\n",
    "lconst = pd.DataFrame({'lconst': [lconst_cooling[0], lconst_heating[0]],\n",
    "                       'lconst_err': [lconst_cooling[1], lconst_heating[1]]},\n",
    "                      index=['cooling', 'heating'])\n",
    "lconst"
   ]
  },
  {
   "cell_type": "code",
   "execution_count": 95,
   "metadata": {},
   "outputs": [
    {
     "data": {
      "text/html": [
       "<div>\n",
       "<style scoped>\n",
       "    .dataframe tbody tr th:only-of-type {\n",
       "        vertical-align: middle;\n",
       "    }\n",
       "\n",
       "    .dataframe tbody tr th {\n",
       "        vertical-align: top;\n",
       "    }\n",
       "\n",
       "    .dataframe thead th {\n",
       "        text-align: right;\n",
       "    }\n",
       "</style>\n",
       "<table border=\"1\" class=\"dataframe\">\n",
       "  <thead>\n",
       "    <tr style=\"text-align: right;\">\n",
       "      <th></th>\n",
       "      <th>lconst</th>\n",
       "      <th>lconst_err</th>\n",
       "    </tr>\n",
       "  </thead>\n",
       "  <tbody>\n",
       "    <tr>\n",
       "      <th>cooling</th>\n",
       "      <td>864000</td>\n",
       "      <td>9000</td>\n",
       "    </tr>\n",
       "    <tr>\n",
       "      <th>heating</th>\n",
       "      <td>880000</td>\n",
       "      <td>9000</td>\n",
       "    </tr>\n",
       "  </tbody>\n",
       "</table>\n",
       "</div>"
      ],
      "text/plain": [
       "         lconst  lconst_err\n",
       "cooling  864000        9000\n",
       "heating  880000        9000"
      ]
     },
     "execution_count": 95,
     "metadata": {},
     "output_type": "execute_result"
    }
   ],
   "source": [
    "lconst = lconst.round(-3).astype(int)\n",
    "lconst"
   ]
  },
  {
   "cell_type": "code",
   "execution_count": 98,
   "metadata": {},
   "outputs": [],
   "source": [
    "def gen_lconst_tbl(df):\n",
    "  columns = [\n",
    "      r'',\n",
    "      r'$L$, $\\tfrac{кДж}{кг}$',\n",
    "    ]\n",
    "\n",
    "  new = pd.concat(\n",
    "    [\n",
    "      pd.Series(['Охлаждение', 'Нагрев'], index=df.index),\n",
    "      gen_latex_col(df, 'lconst', 0, df['lconst_err'], 0.001)\n",
    "    ], axis=1)\n",
    "  new = new.apply(to_rus_str, axis=0)\n",
    "  new.columns = columns\n",
    "  return new.to_latex(index_names=False,\n",
    "                      index=False,\n",
    "                      buf=f'{OUTPUT_DIR}/tbl_lconst.tex',\n",
    "                      column_format='c' * len(columns),\n",
    "                      multicolumn_format='c',\n",
    "                      decimal=',')\n",
    "\n",
    "gen_lconst_tbl(lconst)"
   ]
  },
  {
   "cell_type": "code",
   "execution_count": 102,
   "metadata": {},
   "outputs": [
    {
     "data": {
      "text/plain": [
       "cooling   -0.070968\n",
       "heating   -0.053763\n",
       "Name: lconst, dtype: float64"
      ]
     },
     "execution_count": 102,
     "metadata": {},
     "output_type": "execute_result"
    }
   ],
   "source": [
    "lconst['lconst'] / 930000 - 1"
   ]
  }
 ],
 "metadata": {
  "kernelspec": {
   "display_name": "DSIntro",
   "language": "python",
   "name": "dsintro"
  },
  "language_info": {
   "codemirror_mode": {
    "name": "ipython",
    "version": 3
   },
   "file_extension": ".py",
   "mimetype": "text/x-python",
   "name": "python",
   "nbconvert_exporter": "python",
   "pygments_lexer": "ipython3",
   "version": "3.10.13"
  }
 },
 "nbformat": 4,
 "nbformat_minor": 2
}
